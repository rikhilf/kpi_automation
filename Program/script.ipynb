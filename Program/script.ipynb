{
 "cells": [
  {
   "cell_type": "markdown",
   "metadata": {},
   "source": [
    "# KPI Automation"
   ]
  },
  {
   "cell_type": "markdown",
   "metadata": {},
   "source": [
    "Click \"Run All\" and type in the needed information in the desired format.\n",
    "The final KPI calculations are shown at the very end, after the last cell."
   ]
  },
  {
   "cell_type": "markdown",
   "metadata": {},
   "source": [
    "## Export CSV from Qualtrics Stakeholder survey"
   ]
  },
  {
   "cell_type": "markdown",
   "metadata": {},
   "source": [
    "The following cell is to Auto-Reload Data files"
   ]
  },
  {
   "cell_type": "code",
   "execution_count": null,
   "metadata": {},
   "outputs": [],
   "source": [
    "%reload_ext autoreload\n",
    "%autoreload 2"
   ]
  },
  {
   "cell_type": "markdown",
   "metadata": {},
   "source": [
    "### Add the CSV to your workspace, name it what you would like, and type it into the file_name variable as a string"
   ]
  },
  {
   "cell_type": "markdown",
   "metadata": {},
   "source": [
    "Turn CSV data into a dataframe, make a dataframe with only needed columns"
   ]
  },
  {
   "cell_type": "code",
   "execution_count": null,
   "metadata": {},
   "outputs": [],
   "source": [
    "import pandas as pd\n",
    "\n",
    "\n",
    "file_name: str = \"october_data.csv\"\n",
    "\n",
    "all_data = pd.read_csv(file_name)\n",
    "\n",
    "all_data.head()"
   ]
  },
  {
   "cell_type": "markdown",
   "metadata": {},
   "source": [
    "Make a new dataframe from the data, this time only taking the needed columns and rows (the first two rows were unneeded)"
   ]
  },
  {
   "cell_type": "code",
   "execution_count": null,
   "metadata": {},
   "outputs": [],
   "source": [
    "all_data.drop([0,1], axis = 0, inplace = True)\n",
    "\n",
    "data = all_data.reset_index()[[\"StartDate\", \"EndDate\", \"Q1\", \"Q2\", \"Q3\", \"Q4\", \"PMO - Led\", \"Quarter\"]].copy()\n",
    "\n",
    "data.head()"
   ]
  },
  {
   "cell_type": "markdown",
   "metadata": {},
   "source": [
    "Create a new column in the dataframe for the year of the response based on the EndDate field"
   ]
  },
  {
   "cell_type": "code",
   "execution_count": null,
   "metadata": {},
   "outputs": [],
   "source": [
    "year = list()\n",
    "i: int = 0\n",
    "while i < len(data):\n",
    "    year.append(data[\"EndDate\"][i][0:4])\n",
    "    i += 1\n",
    "\n",
    "data[\"Year\"] = year\n",
    "\n",
    "data.head()"
   ]
  },
  {
   "cell_type": "markdown",
   "metadata": {},
   "source": [
    "Create a new column in the dataframe for the month of the response based on the EndDate field"
   ]
  },
  {
   "cell_type": "code",
   "execution_count": null,
   "metadata": {},
   "outputs": [],
   "source": [
    "month = list()\n",
    "i: int = 0\n",
    "while i < len(data):\n",
    "    month.append(data[\"EndDate\"][i][5:7])\n",
    "    i += 1\n",
    "\n",
    "data[\"Month\"] = month\n",
    "\n",
    "data.head()"
   ]
  },
  {
   "cell_type": "markdown",
   "metadata": {},
   "source": [
    "Making use of the month column, we make a Quarter column (denoted as Q so as to not be confused with the Qualtrics data field)"
   ]
  },
  {
   "cell_type": "code",
   "execution_count": null,
   "metadata": {},
   "outputs": [],
   "source": [
    "quarter = list()\n",
    "i: int = 0\n",
    "while i < len(data):\n",
    "    if data[\"Month\"][i] == \"07\" or data[\"Month\"][i] == \"08\" or data[\"Month\"][i] == \"09\":\n",
    "        quarter.append(\"1\")\n",
    "    elif data[\"Month\"][i] == \"10\" or data[\"Month\"][i] == \"11\" or data[\"Month\"][i] == \"12\":\n",
    "        quarter.append(\"2\")\n",
    "    elif data[\"Month\"][i] == \"01\" or data[\"Month\"][i] == \"02\" or data[\"Month\"][i] == \"03\":\n",
    "        quarter.append(\"3\")\n",
    "    elif data[\"Month\"][i] == \"04\" or data[\"Month\"][i] == \"05\" or data[\"Month\"][i] == \"06\":\n",
    "        quarter.append(\"4\")\n",
    "    i += 1\n",
    "\n",
    "data[\"Q\"] = quarter\n",
    "\n",
    "data.head()"
   ]
  },
  {
   "cell_type": "markdown",
   "metadata": {},
   "source": [
    "Calculate Fiscal Year based off of the month and the year"
   ]
  },
  {
   "cell_type": "code",
   "execution_count": null,
   "metadata": {},
   "outputs": [],
   "source": [
    "fiscal_year: list[int] = list()\n",
    "\n",
    "i: int = 0\n",
    "while i < len(data):\n",
    "    fiscal_year.append(data[\"Year\"][i][2:4])\n",
    "    fiscal_year[i] = int(fiscal_year[i])\n",
    "    i += 1\n",
    "\n",
    "# if data[\"Month\"] == \"01\" or data[\"Month\"] == \"02\" or data[\"Month\"] == \"03\" or data[\"Month\"] == \"04\" or data[\"Month\"] == \"05\" or data[\"Month\"] == \"06\":\n",
    "#     fiscal_year = data[\"Year\"]\n",
    "i: int = 0\n",
    "while i < len(data):\n",
    "    if data[\"Month\"][i] == \"07\" or data[\"Month\"][i] == \"08\" or data[\"Month\"][i] == \"09\" or data[\"Month\"][i] == \"10\" or data[\"Month\"][i] == \"11\" or data[\"Month\"][i] == \"12\":\n",
    "        fiscal_year[i] += 1\n",
    "    i += 1\n",
    "\n",
    "fiscal_year_str: list[str] = list()\n",
    "for item in fiscal_year:\n",
    "    fiscal_year_str.append(str(item))\n",
    "\n",
    "\n",
    "data[\"Fiscal Year\"] = fiscal_year_str\n",
    "\n",
    "data.head()"
   ]
  },
  {
   "cell_type": "markdown",
   "metadata": {},
   "source": [
    "Filter based off of Fiscal Year"
   ]
  },
  {
   "cell_type": "code",
   "execution_count": null,
   "metadata": {},
   "outputs": [],
   "source": [
    "needed_fy: str = input(\"What is the needed Fiscal year? (Enter the last two digits of the Fiscal Year)\")\n",
    "\n",
    "fy_filter: list[bool] = data[\"Fiscal Year\"] == needed_fy\n",
    "\n",
    "data_in_year = data[fy_filter]\n",
    "\n",
    "data_in_year.head()"
   ]
  },
  {
   "cell_type": "markdown",
   "metadata": {},
   "source": [
    "Filter based on Quarter"
   ]
  },
  {
   "cell_type": "code",
   "execution_count": null,
   "metadata": {},
   "outputs": [],
   "source": [
    "needed_quarter: str = input(\"What is your target quarter? (Type a number 1-4) If you would like to select the whole year, do not give a response.\")\n",
    "\n",
    "if needed_quarter != \"\":\n",
    "    quarter_filter = data_in_year[\"Q\"] == needed_quarter\n",
    "    data_in_quarter = data_in_year[quarter_filter]\n",
    "else: \n",
    "    data_in_quarter = data_in_year\n",
    "\n",
    "data_in_quarter.head()"
   ]
  },
  {
   "cell_type": "markdown",
   "metadata": {},
   "source": [
    "Filter based on PMO"
   ]
  },
  {
   "cell_type": "code",
   "execution_count": null,
   "metadata": {},
   "outputs": [],
   "source": [
    "pmo_led = data[\"PMO - Led\"] == \"Yes\"\n",
    "non_pmo_led = data[\"PMO - Led\"] == \"No\"\n",
    "pmo_led_string: str = input(\"PMO-Led? (Enter 'Y' (yes) 'N' (no) or 'B' (both)): \")\n",
    "pmo_filter: list[bool]\n",
    "\n",
    "while pmo_led_string != \"Y\" and pmo_led_string != \"N\" and pmo_led_string != \"B\":\n",
    "    pmo_led_string: str = input(\"PMO-Led? (Please enter 'Y' or 'N'): \")\n",
    "if pmo_led_string == \"Y\":\n",
    "    pmo_filter = data_in_quarter[\"PMO - Led\"] == \"Yes\"\n",
    "    unindexed_pmo = data_in_quarter[pmo_filter]\n",
    "    filtered_by_pmo = unindexed_pmo.reset_index()\n",
    "elif pmo_led_string == \"N\":\n",
    "    pmo_filter = data_in_quarter[\"PMO - Led\"] == \"No\"\n",
    "    unindexed_pmo = data_in_quarter[pmo_filter]\n",
    "    filtered_by_pmo = unindexed_pmo.reset_index()\n",
    "elif pmo_led_string == \"B\":\n",
    "    filtered_by_pmo = data_in_quarter.reset_index()\n",
    "\n",
    "\n",
    "\n",
    "\n",
    "filtered_by_pmo"
   ]
  },
  {
   "cell_type": "markdown",
   "metadata": {},
   "source": [
    "Assign a score for each question based on Likert Scale"
   ]
  },
  {
   "cell_type": "code",
   "execution_count": null,
   "metadata": {},
   "outputs": [],
   "source": [
    "# filtered_by_pmo[\"Q1\"][0]"
   ]
  },
  {
   "cell_type": "code",
   "execution_count": null,
   "metadata": {},
   "outputs": [],
   "source": [
    "\n",
    "def score_assign(question: str):\n",
    "\n",
    "    score: list[int] = list()\n",
    "    i: int = 0\n",
    "    while i < len(filtered_by_pmo):\n",
    "        if filtered_by_pmo[question][i] == \"Strongly agree\":\n",
    "            score.append(5)\n",
    "        elif filtered_by_pmo[question][i] == \"Somewhat agree\":\n",
    "            score.append(4)\n",
    "        elif filtered_by_pmo[question][i] == \"Neither agree nor disagree\":\n",
    "            score.append(3)\n",
    "        elif filtered_by_pmo[question][i] == \"Somewhat disagree\":\n",
    "            score.append(2)\n",
    "        elif filtered_by_pmo[question][i] == \"Strongly disagree\":\n",
    "            score.append(1)\n",
    "        i += 1\n",
    "\n",
    "    score_str = list()\n",
    "    for item in score:\n",
    "        score_str.append(item)\n",
    "    return score_str\n",
    "\n",
    "\n",
    "filtered_by_pmo[\"Q1 Score\"] = score_assign(\"Q1\")\n",
    "filtered_by_pmo[\"Q2 Score\"] = score_assign(\"Q2\")\n",
    "filtered_by_pmo[\"Q3 Score\"] = score_assign(\"Q3\")\n",
    "\n",
    "filtered_by_pmo\n"
   ]
  },
  {
   "cell_type": "markdown",
   "metadata": {},
   "source": [
    "Calculate KPIs!"
   ]
  },
  {
   "cell_type": "markdown",
   "metadata": {},
   "source": [
    "First, calculate the sum of each column of scores"
   ]
  },
  {
   "cell_type": "code",
   "execution_count": null,
   "metadata": {},
   "outputs": [],
   "source": [
    "def score_sum(score: str) -> float:\n",
    "    \"\"\"calculates the sum of each column of scores\"\"\"\n",
    "    sum: float = 0\n",
    "    k: int = 0\n",
    "    while k < len(filtered_by_pmo):\n",
    "        sum += filtered_by_pmo[score][k]\n",
    "        k += 1\n",
    "    return sum"
   ]
  },
  {
   "cell_type": "markdown",
   "metadata": {},
   "source": [
    "Client Satisfaction"
   ]
  },
  {
   "cell_type": "code",
   "execution_count": null,
   "metadata": {},
   "outputs": [],
   "source": [
    "client_satisfaction: str = str((score_sum(\"Q1 Score\") + score_sum(\"Q2 Score\") + score_sum(\"Q3 Score\"))  / (len(filtered_by_pmo) * 3))\n"
   ]
  },
  {
   "cell_type": "markdown",
   "metadata": {},
   "source": [
    "PM Communicaitons"
   ]
  },
  {
   "cell_type": "code",
   "execution_count": null,
   "metadata": {},
   "outputs": [],
   "source": [
    "pm_communications: str = str(score_sum(\"Q2 Score\")/ (len(filtered_by_pmo)))"
   ]
  },
  {
   "cell_type": "markdown",
   "metadata": {},
   "source": [
    "Change Mgmt."
   ]
  },
  {
   "cell_type": "code",
   "execution_count": null,
   "metadata": {},
   "outputs": [],
   "source": [
    "change_mgmt: str = str(score_sum(\"Q3 Score\") / (len(filtered_by_pmo)))"
   ]
  },
  {
   "cell_type": "markdown",
   "metadata": {},
   "source": [
    "All metrics printed:"
   ]
  },
  {
   "cell_type": "code",
   "execution_count": null,
   "metadata": {},
   "outputs": [],
   "source": [
    "print(\"Client satisfaction: \" + client_satisfaction + \" PM Communication: \" + pm_communications + \" Change mgmt. \" + change_mgmt)"
   ]
  }
 ],
 "metadata": {
  "kernelspec": {
   "display_name": "Python 3.10.1 64-bit",
   "language": "python",
   "name": "python3"
  },
  "language_info": {
   "codemirror_mode": {
    "name": "ipython",
    "version": 3
   },
   "file_extension": ".py",
   "mimetype": "text/x-python",
   "name": "python",
   "nbconvert_exporter": "python",
   "pygments_lexer": "ipython3",
   "version": "3.10.1"
  },
  "orig_nbformat": 4,
  "vscode": {
   "interpreter": {
    "hash": "7e1998ff7f8aa20ada591c520b972326324e5ea05489af9e422744c7c09f6dad"
   }
  }
 },
 "nbformat": 4,
 "nbformat_minor": 2
}
